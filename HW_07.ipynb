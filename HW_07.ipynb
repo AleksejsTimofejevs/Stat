{
 "cells": [
  {
   "cell_type": "code",
   "execution_count": 55,
   "metadata": {},
   "outputs": [],
   "source": [
    "import pandas as pd\n",
    "import numpy as np\n",
    "from scipy import stats\n",
    "import math"
   ]
  },
  {
   "cell_type": "markdown",
   "metadata": {},
   "source": [
    "1. Даны значения величины заработной платы заемщиков банка (zp) и значения их поведенческого кредитного скоринга (ks): zp = [35, 45, 190, 200, 40, 70, 54, 150, 120, 110], ks = [401, 574, 874, 919, 459, 739, 653, 902, 746, 832]. Используя математические операции, посчитать коэффициенты линейной регрессии, приняв за X заработную плату (то есть, zp - признак), а за y - значения скорингового балла (то есть, ks - целевая переменная). Произвести расчет как с использованием intercept, так и без."
   ]
  },
  {
   "cell_type": "code",
   "execution_count": 56,
   "metadata": {},
   "outputs": [],
   "source": [
    "zp = np.array([35, 45, 190, 200, 40, 70, 54, 150, 120, 110])\n",
    "ks = np.array([401, 574, 874, 919, 459, 739, 653, 902, 746, 832])"
   ]
  },
  {
   "cell_type": "code",
   "execution_count": 57,
   "metadata": {},
   "outputs": [
    {
     "data": {
      "text/plain": [
       "array([[ 35],\n",
       "       [ 45],\n",
       "       [190],\n",
       "       [200],\n",
       "       [ 40],\n",
       "       [ 70],\n",
       "       [ 54],\n",
       "       [150],\n",
       "       [120],\n",
       "       [110]])"
      ]
     },
     "execution_count": 57,
     "metadata": {},
     "output_type": "execute_result"
    }
   ],
   "source": [
    "X = zp.reshape((len(zp), 1))\n",
    "X"
   ]
  },
  {
   "cell_type": "code",
   "execution_count": 58,
   "metadata": {},
   "outputs": [
    {
     "data": {
      "text/plain": [
       "array([[401],\n",
       "       [574],\n",
       "       [874],\n",
       "       [919],\n",
       "       [459],\n",
       "       [739],\n",
       "       [653],\n",
       "       [902],\n",
       "       [746],\n",
       "       [832]])"
      ]
     },
     "execution_count": 58,
     "metadata": {},
     "output_type": "execute_result"
    }
   ],
   "source": [
    "Y = ks.reshape((len(ks), 1))\n",
    "Y"
   ]
  },
  {
   "cell_type": "markdown",
   "metadata": {},
   "source": [
    "#### C intercept"
   ]
  },
  {
   "cell_type": "code",
   "execution_count": 59,
   "metadata": {},
   "outputs": [
    {
     "data": {
      "text/plain": [
       "array([[  1.,  35.],\n",
       "       [  1.,  45.],\n",
       "       [  1., 190.],\n",
       "       [  1., 200.],\n",
       "       [  1.,  40.],\n",
       "       [  1.,  70.],\n",
       "       [  1.,  54.],\n",
       "       [  1., 150.],\n",
       "       [  1., 120.],\n",
       "       [  1., 110.]])"
      ]
     },
     "execution_count": 59,
     "metadata": {},
     "output_type": "execute_result"
    }
   ],
   "source": [
    "Xi = np.hstack([np.ones((len(zp), 1)), X])\n",
    "Xi"
   ]
  },
  {
   "cell_type": "code",
   "execution_count": 60,
   "metadata": {},
   "outputs": [
    {
     "name": "stdout",
     "output_type": "stream",
     "text": [
      "intercept: 444.17735732435904, b: 2.620538882402766\n"
     ]
    }
   ],
   "source": [
    "b = np.dot(np.linalg.inv(np.dot(Xi.T, Xi)), Xi.T @ Y)\n",
    "print('intercept: {}, b: {}'.format(b[0][0], b[1][0]))"
   ]
  },
  {
   "cell_type": "markdown",
   "metadata": {},
   "source": [
    "#### Без intercept"
   ]
  },
  {
   "cell_type": "code",
   "execution_count": 61,
   "metadata": {},
   "outputs": [
    {
     "name": "stdout",
     "output_type": "stream",
     "text": [
      "b: 5.889820420132688\n"
     ]
    }
   ],
   "source": [
    "b = np.dot(np.linalg.inv(np.dot(X.T, X)), X.T @ Y)\n",
    "print('b: {}'.format(b[0][0]))"
   ]
  },
  {
   "cell_type": "markdown",
   "metadata": {},
   "source": [
    "2. Посчитать коэффициент линейной регрессии при заработной плате (zp), используя градиентный спуск (без intercept)."
   ]
  },
  {
   "cell_type": "code",
   "execution_count": 62,
   "metadata": {},
   "outputs": [],
   "source": [
    "def mse(B1, Y=Y, X=X, n=10):\n",
    "    return np.sum((B1*X-Y)**2/n)"
   ]
  },
  {
   "cell_type": "code",
   "execution_count": 63,
   "metadata": {},
   "outputs": [],
   "source": [
    "B1 = 0.1\n",
    "alpha = 1e-7\n",
    "n=10"
   ]
  },
  {
   "cell_type": "code",
   "execution_count": 64,
   "metadata": {},
   "outputs": [
    {
     "name": "stdout",
     "output_type": "stream",
     "text": [
      "Iteration0, B1=0.115952808, mse=515794.9112047831\n",
      "Iteration500, B1=4.436601977832683, mse=85610.88627620286\n",
      "Iteration1000, B1=5.524061455274668, mse=58359.886733764004\n",
      "Iteration1500, B1=5.7977629451654105, mse=56633.60929660133\n",
      "Iteration2000, B1=5.866650574656343, mse=56524.25426962639\n",
      "Iteration2500, B1=5.883988826993857, mse=56517.326923148226\n",
      "Iteration3000, B1=5.888352672815523, mse=56516.888094403395\n",
      "Iteration3500, B1=5.88945100441116, mse=56516.860295784114\n",
      "Iteration4000, B1=5.889727442292625, mse=56516.85853481644\n",
      "Iteration4500, B1=5.889797018641524, mse=56516.85842326389\n",
      "Iteration5000, B1=5.889814530236905, mse=56516.85841619733\n",
      "Iteration5500, B1=5.889818937711242, mse=56516.85841574967\n",
      "Iteration6000, B1=5.8898200470236475, mse=56516.858415721326\n",
      "Iteration6500, B1=5.889820326225288, mse=56516.85841571954\n",
      "Iteration7000, B1=5.889820396497239, mse=56516.85841571941\n",
      "Iteration7500, B1=5.8898204141839114, mse=56516.85841571941\n",
      "Iteration8000, B1=5.889820418635448, mse=56516.85841571941\n",
      "Iteration8500, B1=5.889820419755853, mse=56516.85841571941\n",
      "Iteration9000, B1=5.889820420037843, mse=56516.8584157194\n",
      "Iteration9500, B1=5.889820420108818, mse=56516.85841571942\n"
     ]
    }
   ],
   "source": [
    "for i in range(10000):\n",
    "    B1 -=alpha*(2/n)*np.sum((B1*X-Y)*X)\n",
    "    if i%500==0:\n",
    "        print(\"Iteration{}, B1={}, mse={}\".format(i, B1, mse(B1)))"
   ]
  },
  {
   "cell_type": "markdown",
   "metadata": {},
   "source": [
    "3. В каких случаях для вычисления доверительных интервалов и проверки статистических гипотез используется таблица значений функции Лапласа, а в каких - таблица критических точек распределения Стьюдента?"
   ]
  },
  {
   "cell_type": "markdown",
   "metadata": {},
   "source": [
    "#### Таблица критических точек Стьюдента - неизвестно СКО/Дисп. генеральной совокупности (t-критерий)\n",
    "#### Таблица значений функции Лапласа - известно СКО/Дисп. генеральной совокупности (z-критерий)"
   ]
  },
  {
   "cell_type": "markdown",
   "metadata": {},
   "source": [
    "4. Произвести вычисления как в пункте 2, но с вычислением intercept. Учесть, что изменение коэффициентов должно производиться на каждом шаге одновременно (то есть изменение одного коэффициента не должно влиять на изменение другого во время одной итерации)."
   ]
  },
  {
   "cell_type": "code",
   "execution_count": 73,
   "metadata": {},
   "outputs": [],
   "source": [
    "def mse_(B0, B1, Y=Y, X=X, n=10):\n",
    "    return np.sum((B0+B1*X-Y)**2)/n"
   ]
  },
  {
   "cell_type": "code",
   "execution_count": 78,
   "metadata": {},
   "outputs": [],
   "source": [
    "B1 = 0.1\n",
    "B0 = 0.1\n",
    "alpha = 1e-5\n",
    "n=10"
   ]
  },
  {
   "cell_type": "code",
   "execution_count": 80,
   "metadata": {},
   "outputs": [
    {
     "name": "stdout",
     "output_type": "stream",
     "text": [
      "Iteration0, B0=441.291414019284, B1=2.641833338964823, mse=6472.526930929462\n",
      "Iteration100000, B0=442.4332425024631, B1=2.6334081502254545, mse=6471.185847877958\n",
      "Iteration200000, B0=443.1233045622654, B1=2.6283164020501735, mse=6470.696034965782\n",
      "Iteration300000, B0=443.540342369067, B1=2.625239212887776, mse=6470.51713725422\n",
      "Iteration400000, B0=443.792378442986, B1=2.623379518964233, mse=6470.4517972225285\n",
      "Iteration500000, B0=443.9446960063309, B1=2.6222556161728705, mse=6470.4279326369815\n",
      "Iteration600000, B0=444.03674886107245, B1=2.621576387473797, mse=6470.419216411594\n",
      "Iteration700000, B0=444.092380843884, B1=2.6211658967897433, mse=6470.416032925127\n",
      "Iteration800000, B0=444.1260019360363, B1=2.620917817458057, mse=6470.4148701986505\n",
      "Iteration900000, B0=444.1463207846572, B1=2.6207678911450256, mse=6470.414445528123\n",
      "Iteration1000000, B0=444.15860044551454, B1=2.6206772834382615, mse=6470.414290422811\n",
      "Iteration1100000, B0=444.1660216372266, B1=2.620622524828044, mse=6470.414233772639\n",
      "Iteration1200000, B0=444.17050662154276, B1=2.620589431557108, mse=6470.414213081914\n",
      "Iteration1300000, B0=444.17321711401036, B1=2.6205694316964, mse=6470.414205524895\n",
      "Iteration1400000, B0=444.17485519543084, B1=2.620557344815278, mse=6470.414202764798\n",
      "Iteration1500000, B0=444.1758451670834, B1=2.6205500401297295, mse=6470.414201756708\n",
      "Iteration1600000, B0=444.1764434547392, B1=2.6205456255556543, mse=6470.414201388517\n",
      "Iteration1700000, B0=444.1768050288396, B1=2.6205429576155175, mse=6470.414201254038\n",
      "Iteration1800000, B0=444.17702354552426, B1=2.6205413452504924, mse=6470.414201204916\n",
      "Iteration1900000, B0=444.17715560570304, B1=2.620540370820491, mse=6470.414201186978\n"
     ]
    }
   ],
   "source": [
    "for i in range(2000000):\n",
    "    B0 -=alpha*(2/n)*np.sum((B0+B1*X-Y))\n",
    "    B1 -=alpha*(2/n)*np.sum((B0+B1*X-Y)*Xi)\n",
    "    if i%100000==0:\n",
    "        print(\"Iteration{}, B0={}, B1={}, mse={}\".format(i, B0, B1, mse_(B0, B1)))"
   ]
  },
  {
   "cell_type": "code",
   "execution_count": null,
   "metadata": {},
   "outputs": [],
   "source": []
  }
 ],
 "metadata": {
  "kernelspec": {
   "display_name": "Python 3",
   "language": "python",
   "name": "python3"
  },
  "language_info": {
   "codemirror_mode": {
    "name": "ipython",
    "version": 3
   },
   "file_extension": ".py",
   "mimetype": "text/x-python",
   "name": "python",
   "nbconvert_exporter": "python",
   "pygments_lexer": "ipython3",
   "version": "3.7.4"
  }
 },
 "nbformat": 4,
 "nbformat_minor": 2
}
